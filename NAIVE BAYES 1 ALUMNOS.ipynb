{
 "cells": [
  {
   "cell_type": "code",
   "execution_count": 1,
   "metadata": {
    "collapsed": true
   },
   "outputs": [],
   "source": []
  },
  {
   "cell_type": "code",
   "execution_count": 1,
   "metadata": {},
   "outputs": [
    {
     "data": {
      "text/plain": [
       "(100, 2)"
      ]
     },
     "execution_count": 1,
     "metadata": {},
     "output_type": "execute_result"
    }
   ],
   "source": [
    "import numpy as np\n",
    "##import csv\n",
    "elArray = np.genfromtxt('student_admission.txt',delimiter=',')\n",
    "##elArray\n",
    "\n",
    "##SACO DEL DATASET LOS FEATURES. EN ESTE CASO ESTOY PIDIENDO DE FILAS, TODO (NO HAY HEADERS EN ESTE DATASET)\n",
    "##Y TOMO DE LA COL A LA 1 PORQUE SON DOS COLUMNAS DE FEATURES\n",
    "X = elArray[:,0:2]\n",
    "##ARMO EL TARGET DE ENTRENAMIENTO. SON TODAS LAS FILAS (NO HAY HEADERS) Y SOLO LA COLUMNA 3 (LA 2 XQ CUETNA DESDE CERO)\n",
    "y = elArray[:,2]\n",
    "X.shape"
   ]
  },
  {
   "cell_type": "code",
   "execution_count": 2,
   "metadata": {
    "collapsed": true
   },
   "outputs": [],
   "source": [
    "from sklearn.model_selection import train_test_split\n",
    "###VOY A SEPARAR LOS DATASETS EN SETS DE ENTRENAMIENTO Y DE TESTEO. \n",
    "###VOY A GUARDAR EL 30% DE LOS REGISTROS PARA TESTEO LUEGO DEL ENTRENAMIENTO\n",
    "###FIJO EL RANDOM STATE PARA QUE ME DE SIEMPRE EL MISMO RESULTADO, BLOQUEA EL RANDOMIZADOR DEL ORDENADOR\n",
    "X_train, X_test, y_train, y_test = train_test_split(X,y,test_size=0.30, random_state=1)"
   ]
  },
  {
   "cell_type": "code",
   "execution_count": 3,
   "metadata": {},
   "outputs": [
    {
     "data": {
      "text/plain": [
       "(70, 2)"
      ]
     },
     "execution_count": 3,
     "metadata": {},
     "output_type": "execute_result"
    }
   ],
   "source": [
    "X_train.shape"
   ]
  },
  {
   "cell_type": "code",
   "execution_count": 4,
   "metadata": {},
   "outputs": [
    {
     "data": {
      "text/plain": [
       "GaussianNB(priors=None)"
      ]
     },
     "execution_count": 4,
     "metadata": {},
     "output_type": "execute_result"
    }
   ],
   "source": [
    "##VOY A HACER UN NB GAUSSIANO PORQUE LOS FEATURES SON CONTINUOS NO CATEGORICOS, SON NOTAS CON MUCHOS DECIMALES, PARECE\n",
    "####ES GAUSSIANA\n",
    "from sklearn.naive_bayes import GaussianNB\n",
    "##PREPARO EL MODELO? \n",
    "model = GaussianNB()\n",
    "##FITEO LOS DATOS, LE PASO LOS FEATURES O PREDICTORES Y LOS TARGET. EL FIT HACE EL ENTRENAMIENTO\n",
    "model.fit(X, y)"
   ]
  },
  {
   "cell_type": "code",
   "execution_count": 5,
   "metadata": {},
   "outputs": [
    {
     "data": {
      "text/plain": [
       "array([1., 1., 0., 1., 1., 0., 0., 1., 1., 0., 0., 0., 1., 1., 1., 0., 1.,\n",
       "       0., 0., 1., 0., 1., 1., 0., 1., 0., 1., 1., 1., 0.])"
      ]
     },
     "execution_count": 5,
     "metadata": {},
     "output_type": "execute_result"
    }
   ],
   "source": [
    "##VOY A PROBAR CON EL TEST LA ACCURACY DE PREDICCION QUE TIENE EL MODELO\n",
    "##LO QUE HAGO ES PASAR AL MODELO LOS PREDICTORES QUE GUARDÉ PARA TESTEAR (30% EN ESTE CASO)\n",
    "##EN LA LISTA Y_PRED, ELMODELO ME DEVUELVE LAS PREDICCIONES O LOS TARGET UE CALCULÓ, ESO ES Y_PRED\n",
    "y_pred =model.predict(X_test)\n",
    "y_pred"
   ]
  },
  {
   "cell_type": "code",
   "execution_count": 6,
   "metadata": {},
   "outputs": [
    {
     "data": {
      "text/plain": [
       "array([[88.91389642, 69.8037889 ],\n",
       "       [80.366756  , 90.9601479 ],\n",
       "       [52.04540477, 69.43286012],\n",
       "       [94.83450672, 45.6943068 ],\n",
       "       [74.49269242, 84.84513685],\n",
       "       [67.94685548, 46.67857411],\n",
       "       [33.91550011, 98.86943574],\n",
       "       [67.31925747, 66.58935318],\n",
       "       [66.74671857, 60.99139403],\n",
       "       [66.56089447, 41.09209808],\n",
       "       [55.48216114, 35.57070347],\n",
       "       [34.18364003, 75.23772034],\n",
       "       [97.64563396, 68.86157272],\n",
       "       [90.54671411, 43.39060181],\n",
       "       [99.27252693, 60.999031  ],\n",
       "       [52.10797973, 63.12762377],\n",
       "       [85.40451939, 57.05198398],\n",
       "       [51.04775177, 45.82270146],\n",
       "       [60.45555629, 42.50840944],\n",
       "       [95.86155507, 38.22527806],\n",
       "       [35.84740877, 72.90219803],\n",
       "       [60.45788574, 73.0949981 ],\n",
       "       [99.31500881, 68.77540947],\n",
       "       [56.2538175 , 39.26147251],\n",
       "       [76.97878373, 47.57596365],\n",
       "       [54.63510555, 52.21388588],\n",
       "       [89.84580671, 45.35828361],\n",
       "       [93.1143888 , 38.80067034],\n",
       "       [77.19303493, 70.4582    ],\n",
       "       [74.78925296, 41.57341523]])"
      ]
     },
     "execution_count": 6,
     "metadata": {},
     "output_type": "execute_result"
    }
   ],
   "source": [
    "X_test"
   ]
  },
  {
   "cell_type": "code",
   "execution_count": 7,
   "metadata": {},
   "outputs": [
    {
     "data": {
      "text/plain": [
       "array([1.])"
      ]
     },
     "execution_count": 7,
     "metadata": {},
     "output_type": "execute_result"
    }
   ],
   "source": [
    "##ASI PASO UNA PREDICCION SUELTA:\n",
    "prediccion = model.predict([[75,46]])\n",
    "prediccion"
   ]
  },
  {
   "cell_type": "code",
   "execution_count": 8,
   "metadata": {},
   "outputs": [
    {
     "data": {
      "text/plain": [
       "array([1.])"
      ]
     },
     "execution_count": 8,
     "metadata": {},
     "output_type": "execute_result"
    }
   ],
   "source": [
    "a=75\n",
    "y=(a,46)\n",
    "prediccion = model.predict([y])\n",
    "prediccion"
   ]
  },
  {
   "cell_type": "code",
   "execution_count": 52,
   "metadata": {
    "collapsed": true
   },
   "outputs": [],
   "source": [
    "import pickle\n",
    "list_pickle_path = 'modelo2.pkl'\n",
    " \n",
    "# Create an variable to pickle and open it in write mode\n",
    "list_pickle = open(list_pickle_path, 'wb')\n",
    "pickle.dump(model, list_pickle)\n",
    "list_pickle.close()"
   ]
  },
  {
   "cell_type": "code",
   "execution_count": null,
   "metadata": {
    "collapsed": true
   },
   "outputs": [],
   "source": []
  },
  {
   "cell_type": "code",
   "execution_count": 22,
   "metadata": {},
   "outputs": [
    {
     "data": {
      "text/plain": [
       "0.9"
      ]
     },
     "execution_count": 22,
     "metadata": {},
     "output_type": "execute_result"
    }
   ],
   "source": [
    "##EL METODO ACCURACY SCORE BASICAMENTE ME COMPARA LOS TARGET QUE GUARDÉ DE TESTEO (30%) Y LOS COMPARA CON LOS QUE PREDIJO Y_PRED\n",
    "##ESTO DEVUELVE EL % DE ACIERTOS QUE TUVO\n",
    "from sklearn.metrics import accuracy_score\n",
    "accuracy_score(y_test,y_pred)"
   ]
  },
  {
   "cell_type": "code",
   "execution_count": null,
   "metadata": {
    "collapsed": true
   },
   "outputs": [],
   "source": []
  },
  {
   "cell_type": "code",
   "execution_count": null,
   "metadata": {
    "collapsed": true
   },
   "outputs": [],
   "source": []
  },
  {
   "cell_type": "code",
   "execution_count": 27,
   "metadata": {},
   "outputs": [
    {
     "name": "stdout",
     "output_type": "stream",
     "text": [
      "             precision    recall  f1-score   support\n",
      "\n",
      "        0.0       0.92      0.86      0.89        14\n",
      "        1.0       0.88      0.94      0.91        16\n",
      "\n",
      "avg / total       0.90      0.90      0.90        30\n",
      "\n"
     ]
    }
   ],
   "source": [
    "##ESTO NO SE QUE HACE, PERO EVIDENTEMENTE ESTÁ TIRANDO INDICADORES DE CALIDAD. PREGUNTAR QUÉ ES CADA UNO?\n",
    "##DA VALORES PARA CADA TIPO DE TARGET???\n",
    "from sklearn.metrics import classification_report\n",
    "print(classification_report(y_test,y_pred))"
   ]
  },
  {
   "cell_type": "code",
   "execution_count": 29,
   "metadata": {},
   "outputs": [
    {
     "name": "stdout",
     "output_type": "stream",
     "text": [
      "[[12  2]\n",
      " [ 1 15]]\n"
     ]
    }
   ],
   "source": [
    "##ESTO ME AHCE LA MATRIZ DE CONFUSION. COMO PUEDO PONERLE LOS HEADERS?\n",
    "from sklearn.metrics import confusion_matrix\n",
    "print(confusion_matrix(y_test,y_pred))\n"
   ]
  },
  {
   "cell_type": "code",
   "execution_count": 34,
   "metadata": {
    "collapsed": true
   },
   "outputs": [],
   "source": [
    "##PREGUNTAR: ES EL EJE X LO PREDECIDO, O SEA LO SEGUNDO QUE LE PASO A LA MATRIZ O ES AL REVES????\n",
    "laMatriz = confusion_matrix(y_test,y_pred)"
   ]
  },
  {
   "cell_type": "code",
   "execution_count": 35,
   "metadata": {
    "collapsed": true
   },
   "outputs": [],
   "source": []
  },
  {
   "cell_type": "code",
   "execution_count": 42,
   "metadata": {
    "scrolled": true
   },
   "outputs": [
    {
     "data": {
      "text/plain": [
       "<matplotlib.axes._subplots.AxesSubplot at 0x184d1f7b048>"
      ]
     },
     "execution_count": 42,
     "metadata": {},
     "output_type": "execute_result"
    },
    {
     "data": {
      "image/png": "[encoded data removed]",
      "text/plain": [
       "<matplotlib.figure.Figure at 0x184d22c0668>"
      ]
     },
     "metadata": {},
     "output_type": "display_data"
    }
   ],
   "source": [
    "##GRAFICO LA MATRIZ DE CONFUSION CON MAS CALIDAD\n",
    "##IMPORTO LAS LIBRERIAS QUE VOY A USAR:\n",
    "import seaborn as sn\n",
    "import pandas as pd\n",
    "import matplotlib.pyplot as plt\n",
    "\n",
    "##ARMO EL OBJETO, PRIMERO LE PASO EL ARRAY, SEGUNDO LOS PASO EL INDEX DE FILAS Y TERCERO LAS COLUMNAS\n",
    "df_cm = pd.DataFrame(laMatriz, index = [\"Correcto 0\", \"Correcto 1\"],\n",
    "                  columns = [\"Predijo 0\", \"Predijo 1\"])\n",
    "plt.figure(figsize = (10,7))\n",
    "sn.heatmap(df_cm, annot=True)\n",
    "## ESTO RECORRE EL STRING Y PONE DE A UN CHARCTER X FILA O COL: index = [i for i in \"ABCD\"]\n",
    "##PUEDO PASARLE UNA LISTA PARECE, ASÍ: index = [\"OPCION A\",\"OPCION B\"]"
   ]
  },
  {
   "cell_type": "code",
   "execution_count": 31,
   "metadata": {},
   "outputs": [
    {
     "data": {
      "text/plain": [
       "0.1"
      ]
     },
     "execution_count": 31,
     "metadata": {},
     "output_type": "execute_result"
    }
   ],
   "source": [
    "##ERROR CUADRÁTICO???? CÓMO SE INTEPRETA?\n",
    "from sklearn.metrics import mean_squared_error\n",
    "mean_squared_error(y_test,y_pred)"
   ]
  },
  {
   "cell_type": "code",
   "execution_count": 33,
   "metadata": {},
   "outputs": [
    {
     "data": {
      "text/plain": [
       "0.5982142857142857"
      ]
     },
     "execution_count": 33,
     "metadata": {},
     "output_type": "execute_result"
    }
   ],
   "source": [
    "##Y ESTO????? R CUADRADO?????\n",
    "from sklearn.metrics import r2_score\n",
    "r2_score(y_test,y_pred)"
   ]
  },
  {
   "cell_type": "code",
   "execution_count": null,
   "metadata": {
    "collapsed": true
   },
   "outputs": [],
   "source": []
  },
  {
   "cell_type": "code",
   "execution_count": null,
   "metadata": {
    "collapsed": true
   },
   "outputs": [],
   "source": []
  },
  {
   "cell_type": "code",
   "execution_count": null,
   "metadata": {
    "collapsed": true
   },
   "outputs": [],
   "source": []
  }
 ],
 "metadata": {
  "kernelspec": {
   "display_name": "Python 3",
   "language": "python",
   "name": "python3"
  },
  "language_info": {
   "codemirror_mode": {
    "name": "ipython",
    "version": 3
   },
   "file_extension": ".py",
   "mimetype": "text/x-python",
   "name": "python",
   "nbconvert_exporter": "python",
   "pygments_lexer": "ipython3",
   "version": "3.6.1"
  }
 },
 "nbformat": 4,
 "nbformat_minor": 2
}
