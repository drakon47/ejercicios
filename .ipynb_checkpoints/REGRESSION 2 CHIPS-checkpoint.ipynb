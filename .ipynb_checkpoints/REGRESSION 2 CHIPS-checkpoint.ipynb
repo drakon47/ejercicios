{
 "cells": [
  {
   "cell_type": "code",
   "execution_count": 1,
   "metadata": {
    "collapsed": true
   },
   "outputs": [],
   "source": []
  },
  {
   "cell_type": "code",
   "execution_count": 14,
   "metadata": {},
   "outputs": [
    {
     "data": {
      "text/plain": [
       "(118, 2)"
      ]
     },
     "execution_count": 14,
     "metadata": {},
     "output_type": "execute_result"
    }
   ],
   "source": [
    "import numpy as np\n",
    "##import csv\n",
    "elArray = np.genfromtxt('chip_tests.txt',delimiter=',')\n",
    "##elArray\n",
    "\n",
    "##SACO DEL DATASET LOS FEATURES. EN ESTE CASO ESTOY PIDIENDO DE FILAS, TODO (NO HAY HEADERS EN ESTE DATASET)\n",
    "##Y TOMO DE LA COL A LA 1 PORQUE SON DOS COLUMNAS DE FEATURES\n",
    "X = elArray[:,0:2]\n",
    "##ARMO EL TARGET DE ENTRENAMIENTO. SON TODAS LAS FILAS (NO HAY HEADERS) Y SOLO LA COLUMNA 3 (LA 2 XQ CUETNA DESDE CERO)\n",
    "y = elArray[:,2]\n",
    "X.shape"
   ]
  },
  {
   "cell_type": "code",
   "execution_count": 40,
   "metadata": {},
   "outputs": [
    {
     "data": {
      "image/png": "[encoded data removed]",
      "text/plain": [
       "<matplotlib.figure.Figure at 0x2959385a400>"
      ]
     },
     "metadata": {},
     "output_type": "display_data"
    }
   ],
   "source": [
    "#PLOTEO LOS PUNTOS DEL ARCHIVO????????????????????\n",
    "# archivo con datos\n",
    "set1 = 'chip_tests.txt'\n",
    "from matplotlib import cm\n",
    "# leo y guardo en un dataframe\n",
    "data = pd.read_csv(set1, names=['x1','x2','y'])\n",
    "\n",
    "# separo features de labesl\n",
    "y = data['y'] # Última columna --> Label\n",
    "x = data[['x1','x2']] # Primeras dos columnas --> Features\n",
    "\n",
    "# paleta de colores https://matplotlib.org/examples/color/colormaps_reference.html\n",
    "cmap = cm.get_cmap('viridis')\n",
    "\n",
    "# ploteo para ver la distribucion\n",
    "data.plot(kind='scatter', x='x1', y='x2', c='y', cmap=cmap)\n",
    "plt.show()"
   ]
  },
  {
   "cell_type": "code",
   "execution_count": 15,
   "metadata": {
    "collapsed": true
   },
   "outputs": [],
   "source": [
    "from sklearn.model_selection import train_test_split\n",
    "###VOY A SEPARAR LOS DATASETS EN SETS DE ENTRENAMIENTO Y DE TESTEO. \n",
    "###VOY A GUARDAR EL 30% DE LOS REGISTROS PARA TESTEO LUEGO DEL ENTRENAMIENTO\n",
    "###FIJO EL RANDOM STATE PARA QUE ME DE SIEMPRE EL MISMO RESULTADO, BLOQUEA EL RANDOMIZADOR DEL ORDENADOR\n",
    "X_train, X_test, y_train, y_test = train_test_split(X,y,test_size=0.30, random_state=1)"
   ]
  },
  {
   "cell_type": "code",
   "execution_count": 16,
   "metadata": {},
   "outputs": [
    {
     "data": {
      "text/plain": [
       "(82, 2)"
      ]
     },
     "execution_count": 16,
     "metadata": {},
     "output_type": "execute_result"
    }
   ],
   "source": [
    "X_train.shape"
   ]
  },
  {
   "cell_type": "code",
   "execution_count": 17,
   "metadata": {},
   "outputs": [
    {
     "data": {
      "text/plain": [
       "LogisticRegression(C=1000000, class_weight=None, dual=False,\n",
       "          fit_intercept=True, intercept_scaling=1, max_iter=100,\n",
       "          multi_class='ovr', n_jobs=1, penalty='l2', random_state=None,\n",
       "          solver='liblinear', tol=0.0001, verbose=0, warm_start=False)"
      ]
     },
     "execution_count": 17,
     "metadata": {},
     "output_type": "execute_result"
    }
   ],
   "source": [
    "##VOY A HACER UN NB GAUSSIANO PORQUE LOS FEATURES SON CONTINUOS NO CATEGORICOS, SON NOTAS CON MUCHOS DECIMALES, PARECE\n",
    "####ES GAUSSIANA\n",
    "from sklearn import linear_model\n",
    "from sklearn.metrics import accuracy_score\n",
    "##PREPARO EL MODELO? \n",
    "clf = linear_model.LogisticRegression(C=1000000)\n",
    "##FITEO LOS DATOS, LE PASO LOS FEATURES O PREDICTORES Y LOS TARGET. EL FIT HACE EL ENTRENAMIENTO\n",
    "clf.fit(X_train, y_train)"
   ]
  },
  {
   "cell_type": "code",
   "execution_count": 18,
   "metadata": {},
   "outputs": [
    {
     "data": {
      "text/plain": [
       "array([ 1.,  1.,  1.,  1.,  0.,  1.,  1.,  1.,  1.,  1.,  1.,  1.,  1.,\n",
       "        1.,  1.,  1.,  1.,  0.,  0.,  1.,  0.,  1.,  1.,  1.,  0.,  1.,\n",
       "        1.,  1.,  1.,  1.,  1.,  0.,  1.,  0.,  0.,  1.])"
      ]
     },
     "execution_count": 18,
     "metadata": {},
     "output_type": "execute_result"
    }
   ],
   "source": [
    "##VOY A PROBAR CON EL TEST LA ACCURACY DE PREDICCION QUE TIENE EL MODELO\n",
    "##LO QUE HAGO ES PASAR AL MODELO LOS PREDICTORES QUE GUARDÉ PARA TESTEAR (30% EN ESTE CASO)\n",
    "##EN LA LISTA Y_PRED, ELMODELO ME DEVUELVE LAS PREDICCIONES O LOS TARGET UE CALCULÓ, ESO ES Y_PRED\n",
    "y_pred =clf.predict(X_test)\n",
    "y_pred"
   ]
  },
  {
   "cell_type": "code",
   "execution_count": 21,
   "metadata": {},
   "outputs": [
    {
     "data": {
      "text/plain": [
       "(82,)"
      ]
     },
     "execution_count": 21,
     "metadata": {},
     "output_type": "execute_result"
    }
   ],
   "source": [
    "y_train.shape"
   ]
  },
  {
   "cell_type": "code",
   "execution_count": 22,
   "metadata": {},
   "outputs": [
    {
     "data": {
      "text/plain": [
       "(36,)"
      ]
     },
     "execution_count": 22,
     "metadata": {},
     "output_type": "execute_result"
    }
   ],
   "source": [
    "y_test.shape"
   ]
  },
  {
   "cell_type": "code",
   "execution_count": 23,
   "metadata": {},
   "outputs": [
    {
     "data": {
      "text/plain": [
       "(36,)"
      ]
     },
     "execution_count": 23,
     "metadata": {},
     "output_type": "execute_result"
    }
   ],
   "source": [
    "y_pred.shape"
   ]
  },
  {
   "cell_type": "code",
   "execution_count": 24,
   "metadata": {},
   "outputs": [
    {
     "data": {
      "text/plain": [
       "0.47222222222222221"
      ]
     },
     "execution_count": 24,
     "metadata": {},
     "output_type": "execute_result"
    }
   ],
   "source": [
    "##EL METODO ACCURACY SCORE BASICAMENTE ME COMPARA LOS TARGET QUE GUARDÉ DE TESTEO (30%) Y LOS COMPARA CON LOS QUE PREDIJO Y_PRED\n",
    "##ESTO DEVUELVE EL % DE ACIERTOS QUE TUVO\n",
    "\n",
    "accuracy_score(y_test,y_pred)"
   ]
  },
  {
   "cell_type": "code",
   "execution_count": 25,
   "metadata": {},
   "outputs": [
    {
     "name": "stdout",
     "output_type": "stream",
     "text": [
      "             precision    recall  f1-score   support\n",
      "\n",
      "        0.0       0.75      0.26      0.39        23\n",
      "        1.0       0.39      0.85      0.54        13\n",
      "\n",
      "avg / total       0.62      0.47      0.44        36\n",
      "\n"
     ]
    }
   ],
   "source": [
    "##ESTO NO SE QUE HACE, PERO EVIDENTEMENTE ESTÁ TIRANDO INDICADORES DE CALIDAD. PREGUNTAR QUÉ ES CADA UNO?\n",
    "##DA VALORES PARA CADA TIPO DE TARGET???\n",
    "from sklearn.metrics import classification_report\n",
    "print(classification_report(y_test,y_pred))"
   ]
  },
  {
   "cell_type": "code",
   "execution_count": 26,
   "metadata": {},
   "outputs": [
    {
     "name": "stdout",
     "output_type": "stream",
     "text": [
      "[[ 6 17]\n",
      " [ 2 11]]\n"
     ]
    }
   ],
   "source": [
    "##ESTO ME AHCE LA MATRIZ DE CONFUSION. COMO PUEDO PONERLE LOS HEADERS?\n",
    "from sklearn.metrics import confusion_matrix\n",
    "print(confusion_matrix(y_test,y_pred))\n"
   ]
  },
  {
   "cell_type": "code",
   "execution_count": 27,
   "metadata": {
    "collapsed": true
   },
   "outputs": [],
   "source": [
    "##PREGUNTAR: ES EL EJE X LO PREDECIDO, O SEA LO SEGUNDO QUE LE PASO A LA MATRIZ O ES AL REVES????\n",
    "laMatriz = confusion_matrix(y_test,y_pred)"
   ]
  },
  {
   "cell_type": "code",
   "execution_count": null,
   "metadata": {
    "collapsed": true
   },
   "outputs": [],
   "source": []
  },
  {
   "cell_type": "code",
   "execution_count": 36,
   "metadata": {
    "scrolled": true
   },
   "outputs": [
    {
     "data": {
      "text/plain": [
       "<matplotlib.axes._subplots.AxesSubplot at 0x295936a8358>"
      ]
     },
     "execution_count": 36,
     "metadata": {},
     "output_type": "execute_result"
    }
   ],
   "source": [
    "##GRAFICO LA MATRIZ DE CONFUSION CON MAS CALIDAD\n",
    "##IMPORTO LAS LIBRERIAS QUE VOY A USAR:\n",
    "import seaborn as sn\n",
    "import pandas as pd\n",
    "import matplotlib.pyplot as plt\n",
    "\n",
    "##ARMO EL OBJETO, PRIMERO LE PASO EL ARRAY, SEGUNDO LOS PASO EL INDEX DE FILAS Y TERCERO LAS COLUMNAS\n",
    "df_cm = pd.DataFrame(laMatriz, index = [\"Correcto 0\", \"Correcto 1\"],\n",
    "                  columns = [\"Predijo 0\", \"Predijo 1\"])\n",
    "plt.figure(figsize = (10,7))\n",
    "sn.heatmap(df_cm, annot=True)\n",
    "## ESTO RECORRE EL STRING Y PONE DE A UN CHARCTER X FILA O COL: index = [i for i in \"ABCD\"]\n",
    "##PUEDO PASARLE UNA LISTA PARECE, ASÍ: index = [\"OPCION A\",\"OPCION B\"]"
   ]
  },
  {
   "cell_type": "code",
   "execution_count": 29,
   "metadata": {},
   "outputs": [
    {
     "data": {
      "text/plain": [
       "0.52777777777777779"
      ]
     },
     "execution_count": 29,
     "metadata": {},
     "output_type": "execute_result"
    }
   ],
   "source": [
    "##ERROR CUADRÁTICO???? CÓMO SE INTEPRETA?\n",
    "from sklearn.metrics import mean_squared_error\n",
    "mean_squared_error(y_test,y_pred)"
   ]
  },
  {
   "cell_type": "code",
   "execution_count": 30,
   "metadata": {},
   "outputs": [
    {
     "data": {
      "text/plain": [
       "-1.2876254180602009"
      ]
     },
     "execution_count": 30,
     "metadata": {},
     "output_type": "execute_result"
    }
   ],
   "source": [
    "##Y ESTO????? R CUADRADO?????\n",
    "from sklearn.metrics import r2_score\n",
    "r2_score(y_test,y_pred)"
   ]
  },
  {
   "cell_type": "code",
   "execution_count": null,
   "metadata": {
    "collapsed": true
   },
   "outputs": [],
   "source": []
  },
  {
   "cell_type": "code",
   "execution_count": null,
   "metadata": {
    "collapsed": true
   },
   "outputs": [],
   "source": []
  },
  {
   "cell_type": "code",
   "execution_count": null,
   "metadata": {
    "collapsed": true
   },
   "outputs": [],
   "source": []
  }
 ],
 "metadata": {
  "kernelspec": {
   "display_name": "Python 3",
   "language": "python",
   "name": "python3"
  },
  "language_info": {
   "codemirror_mode": {
    "name": "ipython",
    "version": 3
   },
   "file_extension": ".py",
   "mimetype": "text/x-python",
   "name": "python",
   "nbconvert_exporter": "python",
   "pygments_lexer": "ipython3",
   "version": "3.6.1"
  }
 },
 "nbformat": 4,
 "nbformat_minor": 2
}
