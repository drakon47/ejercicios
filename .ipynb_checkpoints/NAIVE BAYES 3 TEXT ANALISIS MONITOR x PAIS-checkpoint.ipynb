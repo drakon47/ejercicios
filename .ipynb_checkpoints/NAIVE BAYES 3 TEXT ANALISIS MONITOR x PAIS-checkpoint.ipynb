{
 "cells": [
  {
   "cell_type": "code",
   "execution_count": null,
   "metadata": {
    "collapsed": true,
    "scrolled": true
   },
   "outputs": [],
   "source": []
  },
  {
   "cell_type": "code",
   "execution_count": 1,
   "metadata": {},
   "outputs": [
    {
     "data": {
      "text/html": [
       "<div>\n",
       "<style>\n",
       "    .dataframe thead tr:only-child th {\n",
       "        text-align: right;\n",
       "    }\n",
       "\n",
       "    .dataframe thead th {\n",
       "        text-align: left;\n",
       "    }\n",
       "\n",
       "    .dataframe tbody tr th {\n",
       "        vertical-align: top;\n",
       "    }\n",
       "</style>\n",
       "<table border=\"1\" class=\"dataframe\">\n",
       "  <thead>\n",
       "    <tr style=\"text-align: right;\">\n",
       "      <th></th>\n",
       "      <th>COMENTARIO</th>\n",
       "      <th>TARGET</th>\n",
       "    </tr>\n",
       "  </thead>\n",
       "  <tbody>\n",
       "    <tr>\n",
       "      <th>0</th>\n",
       "      <td>Es la secretaria del colegio nuyrcionistas de ...</td>\n",
       "      <td>PERU</td>\n",
       "    </tr>\n",
       "    <tr>\n",
       "      <th>1</th>\n",
       "      <td>Juan Carlos Realiza pedido de 1d 1023 Anterior...</td>\n",
       "      <td>ARGENTINA</td>\n",
       "    </tr>\n",
       "    <tr>\n",
       "      <th>2</th>\n",
       "      <td>Pide 3u 1075  1d 1023  12 u 1051 6u 1059  3u 1...</td>\n",
       "      <td>ARGENTINA</td>\n",
       "    </tr>\n",
       "    <tr>\n",
       "      <th>3</th>\n",
       "      <td>Realiza pedido de 1 dispenser de 1023</td>\n",
       "      <td>ARGENTINA</td>\n",
       "    </tr>\n",
       "    <tr>\n",
       "      <th>4</th>\n",
       "      <td>REaliza pedido de 1d 1023</td>\n",
       "      <td>ARGENTINA</td>\n",
       "    </tr>\n",
       "  </tbody>\n",
       "</table>\n",
       "</div>"
      ],
      "text/plain": [
       "                                          COMENTARIO     TARGET\n",
       "0  Es la secretaria del colegio nuyrcionistas de ...       PERU\n",
       "1  Juan Carlos Realiza pedido de 1d 1023 Anterior...  ARGENTINA\n",
       "2  Pide 3u 1075  1d 1023  12 u 1051 6u 1059  3u 1...  ARGENTINA\n",
       "3              Realiza pedido de 1 dispenser de 1023  ARGENTINA\n",
       "4                          REaliza pedido de 1d 1023  ARGENTINA"
      ]
     },
     "execution_count": 1,
     "metadata": {},
     "output_type": "execute_result"
    }
   ],
   "source": [
    "import pandas as pd\n",
    "df = pd.read_csv('super_monitor_pais.csv', names=[\"COMENTARIO\", 'TARGET'], sep=';')\n",
    "df.head()"
   ]
  },
  {
   "cell_type": "code",
   "execution_count": 2,
   "metadata": {
    "collapsed": true
   },
   "outputs": [],
   "source": [
    "df.shape\n",
    "#COMPLETO LAS CELDAS VACIAS CON LA PALABRA NO\n",
    "df = df.fillna(\"no\")"
   ]
  },
  {
   "cell_type": "code",
   "execution_count": 3,
   "metadata": {},
   "outputs": [
    {
     "ename": "NameError",
     "evalue": "name 'preprocessing' is not defined",
     "output_type": "error",
     "traceback": [
      "\u001b[1;31m---------------------------------------------------------------------------\u001b[0m",
      "\u001b[1;31mNameError\u001b[0m                                 Traceback (most recent call last)",
      "\u001b[1;32m<ipython-input-3-8bbffa91a6e7>\u001b[0m in \u001b[0;36m<module>\u001b[1;34m()\u001b[0m\n\u001b[0;32m      1\u001b[0m \u001b[1;31m#CODIFICAR UNA COLUMNA CATEGORICA EN NÚMEROS\u001b[0m\u001b[1;33m\u001b[0m\u001b[1;33m\u001b[0m\u001b[0m\n\u001b[1;32m----> 2\u001b[1;33m \u001b[0mle\u001b[0m \u001b[1;33m=\u001b[0m \u001b[0mpreprocessing\u001b[0m\u001b[1;33m.\u001b[0m\u001b[0mLabelEncoder\u001b[0m\u001b[1;33m(\u001b[0m\u001b[1;33m)\u001b[0m\u001b[1;33m\u001b[0m\u001b[0m\n\u001b[0m\u001b[0;32m      3\u001b[0m \u001b[0mle\u001b[0m\u001b[1;33m.\u001b[0m\u001b[0mfit\u001b[0m\u001b[1;33m(\u001b[0m\u001b[0mdf\u001b[0m\u001b[1;33m[\u001b[0m\u001b[1;34m'TARGET'\u001b[0m\u001b[1;33m]\u001b[0m\u001b[1;33m)\u001b[0m\u001b[1;33m\u001b[0m\u001b[0m\n\u001b[0;32m      4\u001b[0m \u001b[1;31m#EN LE.CLASSES_ QUEDA ARMADO EL ARRAY DE INDEXACION\u001b[0m\u001b[1;33m\u001b[0m\u001b[1;33m\u001b[0m\u001b[0m\n\u001b[0;32m      5\u001b[0m \u001b[0mlist\u001b[0m\u001b[1;33m(\u001b[0m\u001b[0mle\u001b[0m\u001b[1;33m.\u001b[0m\u001b[0mclasses_\u001b[0m\u001b[1;33m)\u001b[0m\u001b[1;33m\u001b[0m\u001b[0m\n",
      "\u001b[1;31mNameError\u001b[0m: name 'preprocessing' is not defined"
     ]
    }
   ],
   "source": [
    "#CODIFICAR UNA COLUMNA CATEGORICA EN NÚMEROS\n",
    "le = preprocessing.LabelEncoder()\n",
    "le.fit(df['TARGET'])\n",
    "#EN LE.CLASSES_ QUEDA ARMADO EL ARRAY DE INDEXACION\n",
    "list(le.classes_)"
   ]
  },
  {
   "cell_type": "code",
   "execution_count": null,
   "metadata": {
    "collapsed": true
   },
   "outputs": [],
   "source": [
    "#Y CON ESTO HACEMOS LA TRANSFORMACIÓN EN EL DATASET\n",
    "\n",
    "df['TARGET'] =le.transform(df['TARGET'])\n"
   ]
  },
  {
   "cell_type": "code",
   "execution_count": null,
   "metadata": {},
   "outputs": [],
   "source": [
    "#CON ESTA FUNCION NOS DEVUELVE LAS CATEGORICAS, EN ESTE EJEMPLO LE PASO 3 INDEXES Y ME LOS DEVUELVE.\n",
    "list(le.inverse_transform([2, 2, 1]))\n"
   ]
  },
  {
   "cell_type": "code",
   "execution_count": null,
   "metadata": {},
   "outputs": [],
   "source": [
    "df.dtypes\n"
   ]
  },
  {
   "cell_type": "code",
   "execution_count": null,
   "metadata": {
    "collapsed": true
   },
   "outputs": [],
   "source": []
  },
  {
   "cell_type": "code",
   "execution_count": 144,
   "metadata": {
    "collapsed": true
   },
   "outputs": [],
   "source": [
    "#FORMAS DE CODIFICAR FEATURES CON NUMEROS:\n",
    "#http://pbpython.com/categorical-encoding.html\n",
    "#ESTÁN EXPLICADAAS LAS DUMMIES Y LAS BINARIES TAMBIEN\n",
    "\n"
   ]
  },
  {
   "cell_type": "code",
   "execution_count": null,
   "metadata": {
    "collapsed": true
   },
   "outputs": [],
   "source": []
  },
  {
   "cell_type": "code",
   "execution_count": 145,
   "metadata": {
    "collapsed": true
   },
   "outputs": [],
   "source": [
    "from sklearn.model_selection import train_test_split\n"
   ]
  },
  {
   "cell_type": "code",
   "execution_count": null,
   "metadata": {
    "collapsed": true
   },
   "outputs": [],
   "source": []
  },
  {
   "cell_type": "code",
   "execution_count": 165,
   "metadata": {
    "collapsed": true
   },
   "outputs": [],
   "source": [
    "#HAGO EL SPLIT DEL PADA. USO LOS NOMBRES DE LAS COLUMNAS\n",
    "X_train, X_test, y_train, y_test = train_test_split(df['COMENTARIO'], df['TARGET'], test_size=0.30, random_state=1)"
   ]
  },
  {
   "cell_type": "code",
   "execution_count": 166,
   "metadata": {},
   "outputs": [
    {
     "data": {
      "text/plain": [
       "(10493,)"
      ]
     },
     "execution_count": 166,
     "metadata": {},
     "output_type": "execute_result"
    }
   ],
   "source": [
    "X_test.shape\n"
   ]
  },
  {
   "cell_type": "code",
   "execution_count": 167,
   "metadata": {},
   "outputs": [
    {
     "data": {
      "text/plain": [
       "18642    medico mostro gran interes por nortricol y ros...\n",
       "1288      Apoyando marcas foco le gusta mucho Ho calmatol \n",
       "6693     Dijo que si receto folifer verificar en proxim...\n",
       "33602                                   Vatanal muy usado \n",
       "21932    Ojo el stimol es 11500 cu Todo con etiquetas n...\n",
       "25245    Recordatorio de antibioticos y perenterll caps...\n",
       "12497    Faltantes acomode linea deje comision muestras...\n",
       "31047                           Se Hablo del cierre de mes\n",
       "5411     Consultar con vendedor Alberto Bonificacion en...\n",
       "18563                                 Medico en evaluacion\n",
       "7819     Dr se compromete con vermoil aumento de parasi...\n",
       "30710    SE VISITA EN ESTA OPORTUNIDAD POR REUNION DE L...\n",
       "24376    QF Nayda Perez y Carlos Cayumil2 asistentes10 ...\n",
       "11021                         Entrega de material a la DC \n",
       "29535        Se presento portafolio y se reviso inventario\n",
       "27997       Se envia lista de precios Clinica y Hospitales\n",
       "26944    Se cobro la ultima factura y se levanto un pedido\n",
       "31805    Solicitan apoyo de dermoconsejera para impulsa...\n",
       "14867           La Dra  no permite  arreglar las bandejas \n",
       "16611    Les avise de la promo Intermedica porque ellos...\n",
       "2806     Calmatol lo utiliza para denticion y problemas...\n",
       "25185    Recordacion de portafolioRadiacion solar  cuid...\n",
       "31335                    Seguiran apoyandonos con Nortriax\n",
       "26174    Reforze todo solareshyaluronvolumendermocapill...\n",
       "20321    Muy receptivo le recorde que hacemos extraccio...\n",
       "28508                            Se le deja np 27 vatanal \n",
       "3579     Capacite de la linea PH 5 limpieza Entrege par...\n",
       "22556    Pedimlos mas apoyo a las marcas de maxicrez y ...\n",
       "13828    Hicimos inventario estuve esperando al Dr Era ...\n",
       "6344     Dependientes comentan que reciben poca formula...\n",
       "                               ...                        \n",
       "20150    Muy receptiva me comenta que ha enviado pacien...\n",
       "17151    Local capacitadoCalmatol no hay pero viene lle...\n",
       "9639                               El doctor llego apurado\n",
       "25174               Recordacion de moperid quanox y acemuk\n",
       "7892                              Dr solicita mm Nervoton \n",
       "26390    Residente de anestesiologia analitico utiliza ...\n",
       "17911                      Me comenta que regresara a cuba\n",
       "33655               Vendedora jocelyn Se hablo de Globifer\n",
       "6091     Deje folletos de todas las obras sociales Y re...\n",
       "9457                              El doctor  recivio apoyo\n",
       "30666    Se verifica stock globifer se informa y deja m...\n",
       "12010                 Esta utilizando tarexa en la clinica\n",
       "30037          Se recordo magal D IBP y linea NUTRICIONAL \n",
       "1921                                     Asta ahorita sali\n",
       "7580                         Dr no esta realizando compras\n",
       "31267    Seguira apoyando con nuestros productos aun ti...\n",
       "21565                              Nos llego pedido de ph5\n",
       "17016            Llevar mas prostasil plus para el doctor \n",
       "28274    Se hace recordacion de marca y  se dejaron sug...\n",
       "15625    Le deje Basken gourmet Compro Pipetas Holliday...\n",
       "29498    Se presentan productos los conoce se refuerzan...\n",
       "29293    Se oriento de Hyaluron Filler serun y contorno...\n",
       "6669     DIFICILES LOS HIPERTENSOS PAA PRESCRIBIRLES SE...\n",
       "30446    Se reviso estado  de cartera en Mora  y compro...\n",
       "3790     Cliente aun tiene producto y hara depositos la...\n",
       "10590                           Emite orden de compra 6899\n",
       "4098     Comenta acerca de su sitio instituto libertarc...\n",
       "32239                           SUBIDO POR ALTAS VALIDADAS\n",
       "16765    Lic Herrera conto que a solicitado comprar a s...\n",
       "32508                               Tenseur Amp ADN ongles\n",
       "Name: COMENTARIO, Length: 10493, dtype: object"
      ]
     },
     "execution_count": 167,
     "metadata": {},
     "output_type": "execute_result"
    }
   ],
   "source": [
    "X_test"
   ]
  },
  {
   "cell_type": "code",
   "execution_count": 168,
   "metadata": {
    "collapsed": true
   },
   "outputs": [],
   "source": [
    "#EXTRACTO LAS PALABAS Y LAS CUENTO\n",
    "from sklearn.feature_extraction.text import CountVectorizer\n",
    "modelo_cvec = CountVectorizer()###stop_words='english'"
   ]
  },
  {
   "cell_type": "code",
   "execution_count": 169,
   "metadata": {
    "collapsed": true,
    "scrolled": true
   },
   "outputs": [],
   "source": [
    "#CONVIERTO EL X TRAIN EN ARRAY DE PALABRAS CONTADAS\n",
    "X_train = modelo_cvec.fit_transform(X_train)\n",
    "\n"
   ]
  },
  {
   "cell_type": "code",
   "execution_count": 170,
   "metadata": {},
   "outputs": [
    {
     "data": {
      "text/plain": [
       "(24481, 18879)"
      ]
     },
     "execution_count": 170,
     "metadata": {},
     "output_type": "execute_result"
    }
   ],
   "source": [
    "X_train.shape"
   ]
  },
  {
   "cell_type": "code",
   "execution_count": 171,
   "metadata": {},
   "outputs": [
    {
     "data": {
      "text/plain": [
       "<24481x18879 sparse matrix of type '<class 'numpy.int64'>'\n",
       "\twith 264840 stored elements in Compressed Sparse Row format>"
      ]
     },
     "execution_count": 171,
     "metadata": {},
     "output_type": "execute_result"
    }
   ],
   "source": [
    "X_train"
   ]
  },
  {
   "cell_type": "code",
   "execution_count": 172,
   "metadata": {},
   "outputs": [
    {
     "data": {
      "text/plain": [
       "MultinomialNB(alpha=1.0, class_prior=None, fit_prior=True)"
      ]
     },
     "execution_count": 172,
     "metadata": {},
     "output_type": "execute_result"
    }
   ],
   "source": [
    "from sklearn.naive_bayes import MultinomialNB\n",
    "modelo_NB = MultinomialNB()\n",
    "modelo_NB.fit(X_train, y_train)"
   ]
  },
  {
   "cell_type": "code",
   "execution_count": 173,
   "metadata": {
    "collapsed": true
   },
   "outputs": [],
   "source": [
    "X_test = modelo_cvec.transform(X_test) #ESTO QUEE HACE??????\n",
    "labels_predichas = modelo_NB.predict(X_test)"
   ]
  },
  {
   "cell_type": "code",
   "execution_count": 174,
   "metadata": {},
   "outputs": [
    {
     "data": {
      "text/plain": [
       "0.88887829981892685"
      ]
     },
     "execution_count": 174,
     "metadata": {},
     "output_type": "execute_result"
    }
   ],
   "source": [
    "from sklearn.metrics import accuracy_score\n",
    "accuracy_score(y_test, labels_predichas)"
   ]
  },
  {
   "cell_type": "code",
   "execution_count": null,
   "metadata": {
    "collapsed": true
   },
   "outputs": [],
   "source": []
  },
  {
   "cell_type": "code",
   "execution_count": null,
   "metadata": {
    "collapsed": true
   },
   "outputs": [],
   "source": []
  },
  {
   "cell_type": "code",
   "execution_count": null,
   "metadata": {
    "collapsed": true
   },
   "outputs": [],
   "source": []
  },
  {
   "cell_type": "code",
   "execution_count": null,
   "metadata": {
    "collapsed": true
   },
   "outputs": [],
   "source": []
  },
  {
   "cell_type": "code",
   "execution_count": null,
   "metadata": {
    "collapsed": true
   },
   "outputs": [],
   "source": []
  },
  {
   "cell_type": "code",
   "execution_count": null,
   "metadata": {
    "collapsed": true
   },
   "outputs": [],
   "source": []
  },
  {
   "cell_type": "code",
   "execution_count": null,
   "metadata": {
    "collapsed": true
   },
   "outputs": [],
   "source": []
  },
  {
   "cell_type": "code",
   "execution_count": null,
   "metadata": {
    "collapsed": true
   },
   "outputs": [],
   "source": []
  },
  {
   "cell_type": "code",
   "execution_count": null,
   "metadata": {
    "collapsed": true
   },
   "outputs": [],
   "source": []
  },
  {
   "cell_type": "code",
   "execution_count": null,
   "metadata": {
    "collapsed": true
   },
   "outputs": [],
   "source": []
  },
  {
   "cell_type": "code",
   "execution_count": 175,
   "metadata": {},
   "outputs": [
    {
     "data": {
      "text/plain": [
       "array([2, 1, 1, ..., 1, 6, 0], dtype=int64)"
      ]
     },
     "execution_count": 175,
     "metadata": {},
     "output_type": "execute_result"
    }
   ],
   "source": [
    "##VOY A PROBAR CON EL TEST LA ACCURACY DE PREDICCION QUE TIENE EL MODELO\n",
    "##LO QUE HAGO ES PASAR AL MODELO LOS PREDICTORES QUE GUARDÉ PARA TESTEAR (30% EN ESTE CASO)\n",
    "##EN LA LISTA Y_PRED, ELMODELO ME DEVUELVE LAS PREDICCIONES O LOS TARGET UE CALCULÓ, ESO ES Y_PRED\n",
    "y_pred =modelo_NB.predict(X_test)\n",
    "y_pred"
   ]
  },
  {
   "cell_type": "code",
   "execution_count": 178,
   "metadata": {},
   "outputs": [
    {
     "data": {
      "text/plain": [
       "(1,)"
      ]
     },
     "execution_count": 178,
     "metadata": {},
     "output_type": "execute_result"
    }
   ],
   "source": [
    "XXX.shape"
   ]
  },
  {
   "cell_type": "code",
   "execution_count": 198,
   "metadata": {},
   "outputs": [
    {
     "ename": "TypeError",
     "evalue": "Cannot cast array data from dtype('float64') to dtype('<U32') according to the rule 'safe'",
     "output_type": "error",
     "traceback": [
      "\u001b[1;31m---------------------------------------------------------------------------\u001b[0m",
      "\u001b[1;31mTypeError\u001b[0m                                 Traceback (most recent call last)",
      "\u001b[1;32m<ipython-input-198-4a6da88c9f42>\u001b[0m in \u001b[0;36m<module>\u001b[1;34m()\u001b[0m\n\u001b[0;32m      2\u001b[0m \u001b[0mX_predict\u001b[0m\u001b[1;33m=\u001b[0m\u001b[0mnp\u001b[0m\u001b[1;33m.\u001b[0m\u001b[0marray\u001b[0m\u001b[1;33m(\u001b[0m\u001b[1;33m[\u001b[0m\u001b[1;33m[\u001b[0m\u001b[1;34m'hola como te va'\u001b[0m\u001b[1;33m]\u001b[0m\u001b[1;33m]\u001b[0m\u001b[1;33m)\u001b[0m\u001b[1;33m\u001b[0m\u001b[0m\n\u001b[0;32m      3\u001b[0m \u001b[1;31m#X_predict = (input().split(\",\"))\u001b[0m\u001b[1;33m\u001b[0m\u001b[1;33m\u001b[0m\u001b[0m\n\u001b[1;32m----> 4\u001b[1;33m \u001b[0mprediccion\u001b[0m \u001b[1;33m=\u001b[0m \u001b[0mmodelo_NB\u001b[0m\u001b[1;33m.\u001b[0m\u001b[0mpredict\u001b[0m\u001b[1;33m(\u001b[0m\u001b[1;33m[\u001b[0m\u001b[1;33m[\u001b[0m\u001b[1;34m\"hola como te va\"\u001b[0m\u001b[1;33m]\u001b[0m\u001b[1;33m]\u001b[0m\u001b[1;33m)\u001b[0m\u001b[1;33m\u001b[0m\u001b[0m\n\u001b[0m\u001b[0;32m      5\u001b[0m \u001b[0mprediccion\u001b[0m\u001b[1;33m\u001b[0m\u001b[0m\n",
      "\u001b[1;32mC:\\Users\\Drakon\\Anaconda3\\lib\\site-packages\\sklearn\\naive_bayes.py\u001b[0m in \u001b[0;36mpredict\u001b[1;34m(self, X)\u001b[0m\n\u001b[0;32m     63\u001b[0m             \u001b[0mPredicted\u001b[0m \u001b[0mtarget\u001b[0m \u001b[0mvalues\u001b[0m \u001b[1;32mfor\u001b[0m \u001b[0mX\u001b[0m\u001b[1;33m\u001b[0m\u001b[0m\n\u001b[0;32m     64\u001b[0m         \"\"\"\n\u001b[1;32m---> 65\u001b[1;33m         \u001b[0mjll\u001b[0m \u001b[1;33m=\u001b[0m \u001b[0mself\u001b[0m\u001b[1;33m.\u001b[0m\u001b[0m_joint_log_likelihood\u001b[0m\u001b[1;33m(\u001b[0m\u001b[0mX\u001b[0m\u001b[1;33m)\u001b[0m\u001b[1;33m\u001b[0m\u001b[0m\n\u001b[0m\u001b[0;32m     66\u001b[0m         \u001b[1;32mreturn\u001b[0m \u001b[0mself\u001b[0m\u001b[1;33m.\u001b[0m\u001b[0mclasses_\u001b[0m\u001b[1;33m[\u001b[0m\u001b[0mnp\u001b[0m\u001b[1;33m.\u001b[0m\u001b[0margmax\u001b[0m\u001b[1;33m(\u001b[0m\u001b[0mjll\u001b[0m\u001b[1;33m,\u001b[0m \u001b[0maxis\u001b[0m\u001b[1;33m=\u001b[0m\u001b[1;36m1\u001b[0m\u001b[1;33m)\u001b[0m\u001b[1;33m]\u001b[0m\u001b[1;33m\u001b[0m\u001b[0m\n\u001b[0;32m     67\u001b[0m \u001b[1;33m\u001b[0m\u001b[0m\n",
      "\u001b[1;32mC:\\Users\\Drakon\\Anaconda3\\lib\\site-packages\\sklearn\\naive_bayes.py\u001b[0m in \u001b[0;36m_joint_log_likelihood\u001b[1;34m(self, X)\u001b[0m\n\u001b[0;32m    705\u001b[0m \u001b[1;33m\u001b[0m\u001b[0m\n\u001b[0;32m    706\u001b[0m         \u001b[0mX\u001b[0m \u001b[1;33m=\u001b[0m \u001b[0mcheck_array\u001b[0m\u001b[1;33m(\u001b[0m\u001b[0mX\u001b[0m\u001b[1;33m,\u001b[0m \u001b[0maccept_sparse\u001b[0m\u001b[1;33m=\u001b[0m\u001b[1;34m'csr'\u001b[0m\u001b[1;33m)\u001b[0m\u001b[1;33m\u001b[0m\u001b[0m\n\u001b[1;32m--> 707\u001b[1;33m         return (safe_sparse_dot(X, self.feature_log_prob_.T) +\n\u001b[0m\u001b[0;32m    708\u001b[0m                 self.class_log_prior_)\n\u001b[0;32m    709\u001b[0m \u001b[1;33m\u001b[0m\u001b[0m\n",
      "\u001b[1;32mC:\\Users\\Drakon\\Anaconda3\\lib\\site-packages\\sklearn\\utils\\extmath.py\u001b[0m in \u001b[0;36msafe_sparse_dot\u001b[1;34m(a, b, dense_output)\u001b[0m\n\u001b[0;32m    187\u001b[0m         \u001b[1;32mreturn\u001b[0m \u001b[0mret\u001b[0m\u001b[1;33m\u001b[0m\u001b[0m\n\u001b[0;32m    188\u001b[0m     \u001b[1;32melse\u001b[0m\u001b[1;33m:\u001b[0m\u001b[1;33m\u001b[0m\u001b[0m\n\u001b[1;32m--> 189\u001b[1;33m         \u001b[1;32mreturn\u001b[0m \u001b[0mfast_dot\u001b[0m\u001b[1;33m(\u001b[0m\u001b[0ma\u001b[0m\u001b[1;33m,\u001b[0m \u001b[0mb\u001b[0m\u001b[1;33m)\u001b[0m\u001b[1;33m\u001b[0m\u001b[0m\n\u001b[0m\u001b[0;32m    190\u001b[0m \u001b[1;33m\u001b[0m\u001b[0m\n\u001b[0;32m    191\u001b[0m \u001b[1;33m\u001b[0m\u001b[0m\n",
      "\u001b[1;31mTypeError\u001b[0m: Cannot cast array data from dtype('float64') to dtype('<U32') according to the rule 'safe'"
     ]
    }
   ],
   "source": [
    "#import numpy as np\n",
    "X_predict=np.array([['hola como te va']])\n",
    "#X_predict = (input().split(\",\"))\n",
    "prediccion = modelo_NB.predict([[\"hola como te va\"]])\n",
    "prediccion"
   ]
  },
  {
   "cell_type": "code",
   "execution_count": 83,
   "metadata": {},
   "outputs": [
    {
     "ename": "NameError",
     "evalue": "name 'model' is not defined",
     "output_type": "error",
     "traceback": [
      "\u001b[1;31m---------------------------------------------------------------------------\u001b[0m",
      "\u001b[1;31mNameError\u001b[0m                                 Traceback (most recent call last)",
      "\u001b[1;32m<ipython-input-83-0c28edcd82e4>\u001b[0m in \u001b[0;36m<module>\u001b[1;34m()\u001b[0m\n\u001b[0;32m      4\u001b[0m \u001b[1;31m# Create an variable to pickle and open it in write mode\u001b[0m\u001b[1;33m\u001b[0m\u001b[1;33m\u001b[0m\u001b[0m\n\u001b[0;32m      5\u001b[0m \u001b[0mlist_pickle\u001b[0m \u001b[1;33m=\u001b[0m \u001b[0mopen\u001b[0m\u001b[1;33m(\u001b[0m\u001b[0mlist_pickle_path\u001b[0m\u001b[1;33m,\u001b[0m \u001b[1;34m'wb'\u001b[0m\u001b[1;33m)\u001b[0m\u001b[1;33m\u001b[0m\u001b[0m\n\u001b[1;32m----> 6\u001b[1;33m \u001b[0mpickle\u001b[0m\u001b[1;33m.\u001b[0m\u001b[0mdump\u001b[0m\u001b[1;33m(\u001b[0m\u001b[0mmodel\u001b[0m\u001b[1;33m,\u001b[0m \u001b[0mlist_pickle\u001b[0m\u001b[1;33m)\u001b[0m\u001b[1;33m\u001b[0m\u001b[0m\n\u001b[0m\u001b[0;32m      7\u001b[0m \u001b[0mlist_pickle\u001b[0m\u001b[1;33m.\u001b[0m\u001b[0mclose\u001b[0m\u001b[1;33m(\u001b[0m\u001b[1;33m)\u001b[0m\u001b[1;33m\u001b[0m\u001b[0m\n",
      "\u001b[1;31mNameError\u001b[0m: name 'model' is not defined"
     ]
    }
   ],
   "source": [
    "import pickle\n",
    "list_pickle_path = 'modelo2.pkl'\n",
    " \n",
    "# Create an variable to pickle and open it in write mode\n",
    "list_pickle = open(list_pickle_path, 'wb')\n",
    "pickle.dump(model, list_pickle)\n",
    "list_pickle.close()"
   ]
  },
  {
   "cell_type": "code",
   "execution_count": null,
   "metadata": {
    "collapsed": true
   },
   "outputs": [],
   "source": []
  },
  {
   "cell_type": "code",
   "execution_count": null,
   "metadata": {
    "collapsed": true
   },
   "outputs": [],
   "source": []
  },
  {
   "cell_type": "code",
   "execution_count": 84,
   "metadata": {},
   "outputs": [
    {
     "data": {
      "text/plain": [
       "0.88887829981892685"
      ]
     },
     "execution_count": 84,
     "metadata": {},
     "output_type": "execute_result"
    }
   ],
   "source": [
    "##EL METODO ACCURACY SCORE BASICAMENTE ME COMPARA LOS TARGET QUE GUARDÉ DE TESTEO (30%) Y LOS COMPARA CON LOS QUE PREDIJO Y_PRED\n",
    "##ESTO DEVUELVE EL % DE ACIERTOS QUE TUVO\n",
    "from sklearn.metrics import accuracy_score\n",
    "accuracy_score(y_test,labels_predichas)"
   ]
  },
  {
   "cell_type": "code",
   "execution_count": null,
   "metadata": {
    "collapsed": true
   },
   "outputs": [],
   "source": []
  },
  {
   "cell_type": "code",
   "execution_count": null,
   "metadata": {
    "collapsed": true
   },
   "outputs": [],
   "source": []
  },
  {
   "cell_type": "code",
   "execution_count": 85,
   "metadata": {},
   "outputs": [
    {
     "name": "stdout",
     "output_type": "stream",
     "text": [
      "             precision    recall  f1-score   support\n",
      "\n",
      "          0       0.88      0.90      0.89      2165\n",
      "          1       0.89      0.94      0.92      1796\n",
      "          2       0.86      0.94      0.90      2500\n",
      "          3       0.89      0.91      0.90      2134\n",
      "          4       0.99      0.53      0.69       348\n",
      "          5       0.00      0.00      0.00        27\n",
      "          6       0.92      0.84      0.88      1442\n",
      "          7       1.00      0.04      0.07        81\n",
      "\n",
      "avg / total       0.89      0.89      0.88     10493\n",
      "\n"
     ]
    },
    {
     "name": "stderr",
     "output_type": "stream",
     "text": [
      "C:\\Users\\Drakon\\Anaconda3\\lib\\site-packages\\sklearn\\metrics\\classification.py:1113: UndefinedMetricWarning: Precision and F-score are ill-defined and being set to 0.0 in labels with no predicted samples.\n",
      "  'precision', 'predicted', average, warn_for)\n"
     ]
    }
   ],
   "source": [
    "##ESTO NO SE QUE HACE, PERO EVIDENTEMENTE ESTÁ TIRANDO INDICADORES DE CALIDAD. PREGUNTAR QUÉ ES CADA UNO?\n",
    "##DA VALORES PARA CADA TIPO DE TARGET???\n",
    "from sklearn.metrics import classification_report\n",
    "print(classification_report(y_test,labels_predichas))"
   ]
  },
  {
   "cell_type": "code",
   "execution_count": 183,
   "metadata": {},
   "outputs": [
    {
     "name": "stdout",
     "output_type": "stream",
     "text": [
      "[[1953   25   94   71    0    0   22    0]\n",
      " [  27 1689   53    9    2    0   16    0]\n",
      " [  55   43 2338   49    0    0   15    0]\n",
      " [  66   44   61 1952    0    0   11    0]\n",
      " [  18   18   46   48  183    0   35    0]\n",
      " [   2    8   14    3    0    0    0    0]\n",
      " [  51   44   85   53    0    0 1209    0]\n",
      " [  40   17   14    6    0    0    1    3]]\n"
     ]
    }
   ],
   "source": [
    "##ESTO ME AHCE LA MATRIZ DE CONFUSION. COMO PUEDO PONERLE LOS HEADERS?\n",
    "from sklearn.metrics import confusion_matrix\n",
    "print(confusion_matrix(y_test,labels_predichas))\n"
   ]
  },
  {
   "cell_type": "code",
   "execution_count": 184,
   "metadata": {
    "collapsed": true
   },
   "outputs": [],
   "source": [
    "##PREGUNTAR: ES EL EJE X LO PREDECIDO, O SEA LO SEGUNDO QUE LE PASO A LA MATRIZ O ES AL REVES????\n",
    "laMatriz = confusion_matrix(y_test,labels_predichas)"
   ]
  },
  {
   "cell_type": "code",
   "execution_count": 185,
   "metadata": {
    "collapsed": true
   },
   "outputs": [],
   "source": []
  },
  {
   "cell_type": "code",
   "execution_count": 194,
   "metadata": {
    "collapsed": true,
    "scrolled": true
   },
   "outputs": [],
   "source": [
    "##GRAFICO LA MATRIZ DE CONFUSION CON MAS CALIDAD\n",
    "##IMPORTO LAS LIBRERIAS QUE VOY A USAR:\n",
    "#import seaborn as sn\n",
    "#import pandas as pd\n",
    "#import matplotlib.pyplot as plt\n",
    "##ARMO EL OBJETO, PRIMERO LE PASO EL ARRAY, SEGUNDO LOS PASO EL INDEX DE FILAS Y TERCERO LAS COLUMNAS\n",
    "#df_cm = pd.DataFrame(laMatriz, index = [\"AR\", \"CH\", \"CO\", \"GU\", \"ME\", \"PA\", \"PE\", \"UR\"],columns = [\"AR\", \"CH\", \"CO\", \"GU\", \"ME\", \"PA\", \"PE\", \"UR\"])\n",
    "#plt.figure(figsize = (10,7))\n",
    "#sn.heatmap(df_cm, annot=True)\n",
    "## ESTO RECORRE EL STRING Y PONE DE A UN CHARCTER X FILA O COL: index = [i for i in \"ABCD\"]\n",
    "##PUEDO PASARLE UNA LISTA PARECE, ASÍ: index = [\"OPCION A\",\"OPCION B\"]"
   ]
  },
  {
   "cell_type": "code",
   "execution_count": 195,
   "metadata": {},
   "outputs": [
    {
     "data": {
      "text/plain": [
       "<matplotlib.axes._subplots.AxesSubplot at 0x17c399a9470>"
      ]
     },
     "execution_count": 195,
     "metadata": {},
     "output_type": "execute_result"
    },
    {
     "data": {
      "image/png": "[encoded data removed]",
      "text/plain": [
       "<matplotlib.figure.Figure at 0x17c399b00b8>"
      ]
     },
     "metadata": {},
     "output_type": "display_data"
    }
   ],
   "source": [
    "#ESTA SI ANDA--------------------------------------------------\n",
    "from sklearn.metrics import confusion_matrix\n",
    "% matplotlib inline\n",
    "import matplotlib.pyplot as plt\n",
    "import seaborn as sns\n",
    "mat = confusion_matrix(y_test, labels_predichas)\n",
    "mat.shape\n",
    "sns.heatmap(mat.T, square=True, annot=True, fmt='d', cbar=False,\n",
    "            xticklabels=[\"AR\", \"CH\", \"CO\", \"GU\", \"ME\", \"PA\", \"PE\", \"UR\"], \n",
    "            yticklabels=[\"AR\", \"CH\", \"CO\", \"GU\", \"ME\", \"PA\", \"PE\", \"UR\"])"
   ]
  },
  {
   "cell_type": "code",
   "execution_count": 192,
   "metadata": {},
   "outputs": [
    {
     "data": {
      "text/plain": [
       "1.2177642237682265"
      ]
     },
     "execution_count": 192,
     "metadata": {},
     "output_type": "execute_result"
    }
   ],
   "source": [
    "##ERROR CUADRÁTICO???? CÓMO SE INTEPRETA?\n",
    "from sklearn.metrics import mean_squared_error\n",
    "mean_squared_error(y_test,labels_predichas)"
   ]
  },
  {
   "cell_type": "code",
   "execution_count": null,
   "metadata": {
    "collapsed": true
   },
   "outputs": [],
   "source": []
  },
  {
   "cell_type": "code",
   "execution_count": 193,
   "metadata": {},
   "outputs": [
    {
     "data": {
      "text/plain": [
       "0.66800156497372376"
      ]
     },
     "execution_count": 193,
     "metadata": {},
     "output_type": "execute_result"
    }
   ],
   "source": [
    "##Y ESTO????? R CUADRADO?????\n",
    "from sklearn.metrics import r2_score\n",
    "r2_score(y_test,labels_predichas)"
   ]
  },
  {
   "cell_type": "code",
   "execution_count": null,
   "metadata": {
    "collapsed": true
   },
   "outputs": [],
   "source": []
  },
  {
   "cell_type": "code",
   "execution_count": null,
   "metadata": {
    "collapsed": true
   },
   "outputs": [],
   "source": []
  },
  {
   "cell_type": "code",
   "execution_count": null,
   "metadata": {
    "collapsed": true
   },
   "outputs": [],
   "source": []
  }
 ],
 "metadata": {
  "kernelspec": {
   "display_name": "Python 3",
   "language": "python",
   "name": "python3"
  }
 },
 "nbformat": 4,
 "nbformat_minor": 2
}
