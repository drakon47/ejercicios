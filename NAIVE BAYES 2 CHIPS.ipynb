{
 "cells": [
  {
   "cell_type": "code",
   "execution_count": 1,
   "metadata": {},
   "outputs": [],
   "source": []
  },
  {
   "cell_type": "code",
   "execution_count": 1,
   "metadata": {},
   "outputs": [
    {
     "data": {
      "text/plain": [
       "(118, 2)"
      ]
     },
     "execution_count": 1,
     "metadata": {},
     "output_type": "execute_result"
    }
   ],
   "source": [
    "import numpy as np\n",
    "##import csv\n",
    "elArray = np.genfromtxt('chip_tests.txt',delimiter=',')\n",
    "##elArray\n",
    "\n",
    "##SACO DEL DATASET LOS FEATURES. EN ESTE CASO ESTOY PIDIENDO DE FILAS, TODO (NO HAY HEADERS EN ESTE DATASET)\n",
    "##Y TOMO DE LA COL A LA 1 PORQUE SON DOS COLUMNAS DE FEATURES\n",
    "X = elArray[:,0:2]\n",
    "##ARMO EL TARGET DE ENTRENAMIENTO. SON TODAS LAS FILAS (NO HAY HEADERS) Y SOLO LA COLUMNA 3 (LA 2 XQ CUETNA DESDE CERO)\n",
    "y = elArray[:,2]\n",
    "X.shape"
   ]
  },
  {
   "cell_type": "code",
   "execution_count": 2,
   "metadata": {},
   "outputs": [],
   "source": [
    "from sklearn.model_selection import train_test_split\n",
    "###VOY A SEPARAR LOS DATASETS EN SETS DE ENTRENAMIENTO Y DE TESTEO. \n",
    "###VOY A GUARDAR EL 30% DE LOS REGISTROS PARA TESTEO LUEGO DEL ENTRENAMIENTO\n",
    "###FIJO EL RANDOM STATE PARA QUE ME DE SIEMPRE EL MISMO RESULTADO, BLOQUEA EL RANDOMIZADOR DEL ORDENADOR\n",
    "X_train, X_test, y_train, y_test = train_test_split(X,y,test_size=0.30, random_state=1)"
   ]
  },
  {
   "cell_type": "code",
   "execution_count": 3,
   "metadata": {},
   "outputs": [
    {
     "data": {
      "text/plain": [
       "(82, 2)"
      ]
     },
     "execution_count": 3,
     "metadata": {},
     "output_type": "execute_result"
    }
   ],
   "source": [
    "X_train.shape"
   ]
  },
  {
   "cell_type": "code",
   "execution_count": 4,
   "metadata": {},
   "outputs": [
    {
     "data": {
      "text/plain": [
       "GaussianNB(priors=None)"
      ]
     },
     "execution_count": 4,
     "metadata": {},
     "output_type": "execute_result"
    }
   ],
   "source": [
    "##VOY A HACER UN NB GAUSSIANO PORQUE LOS FEATURES SON CONTINUOS NO CATEGORICOS, SON NOTAS CON MUCHOS DECIMALES, PARECE\n",
    "####ES GAUSSIANA\n",
    "from sklearn.naive_bayes import GaussianNB\n",
    "##PREPARO EL MODELO? \n",
    "model = GaussianNB()\n",
    "##FITEO LOS DATOS, LE PASO LOS FEATURES O PREDICTORES Y LOS TARGET. EL FIT HACE EL ENTRENAMIENTO\n",
    "model.fit(X, y)"
   ]
  },
  {
   "cell_type": "code",
   "execution_count": 5,
   "metadata": {},
   "outputs": [
    {
     "data": {
      "text/plain": [
       "array([0., 1., 1., 0., 0., 0., 1., 0., 0., 0., 0., 0., 1., 0., 0., 1., 1.,\n",
       "       0., 0., 0., 0., 1., 1., 0., 0., 0., 1., 0., 0., 1., 1., 0., 0., 0.,\n",
       "       0., 1.])"
      ]
     },
     "execution_count": 5,
     "metadata": {},
     "output_type": "execute_result"
    }
   ],
   "source": [
    "##VOY A PROBAR CON EL TEST LA ACCURACY DE PREDICCION QUE TIENE EL MODELO\n",
    "##LO QUE HAGO ES PASAR AL MODELO LOS PREDICTORES QUE GUARDÉ PARA TESTEAR (30% EN ESTE CASO)\n",
    "##EN LA LISTA Y_PRED, ELMODELO ME DEVUELVE LAS PREDICCIONES O LOS TARGET UE CALCULÓ, ESO ES Y_PRED\n",
    "y_pred =model.predict(X_test)\n",
    "y_pred"
   ]
  },
  {
   "cell_type": "code",
   "execution_count": 6,
   "metadata": {},
   "outputs": [
    {
     "data": {
      "text/plain": [
       "0.75"
      ]
     },
     "execution_count": 6,
     "metadata": {},
     "output_type": "execute_result"
    }
   ],
   "source": [
    "##EL METODO ACCURACY SCORE BASICAMENTE ME COMPARA LOS TARGET QUE GUARDÉ DE TESTEO (30%) Y LOS COMPARA CON LOS QUE PREDIJO Y_PRED\n",
    "##ESTO DEVUELVE EL % DE ACIERTOS QUE TUVO\n",
    "from sklearn.metrics import accuracy_score\n",
    "accuracy_score(y_test,y_pred)"
   ]
  },
  {
   "cell_type": "code",
   "execution_count": 7,
   "metadata": {},
   "outputs": [
    {
     "name": "stdout",
     "output_type": "stream",
     "text": [
      "             precision    recall  f1-score   support\n",
      "\n",
      "        0.0       0.79      0.83      0.81        23\n",
      "        1.0       0.67      0.62      0.64        13\n",
      "\n",
      "avg / total       0.75      0.75      0.75        36\n",
      "\n"
     ]
    }
   ],
   "source": [
    "##ESTO NO SE QUE HACE, PERO EVIDENTEMENTE ESTÁ TIRANDO INDICADORES DE CALIDAD. PREGUNTAR QUÉ ES CADA UNO?\n",
    "##DA VALORES PARA CADA TIPO DE TARGET???\n",
    "from sklearn.metrics import classification_report\n",
    "print(classification_report(y_test,y_pred))"
   ]
  },
  {
   "cell_type": "code",
   "execution_count": 8,
   "metadata": {},
   "outputs": [
    {
     "name": "stdout",
     "output_type": "stream",
     "text": [
      "[[19  4]\n",
      " [ 5  8]]\n"
     ]
    }
   ],
   "source": [
    "##ESTO ME AHCE LA MATRIZ DE CONFUSION. COMO PUEDO PONERLE LOS HEADERS?\n",
    "from sklearn.metrics import confusion_matrix\n",
    "print(confusion_matrix(y_test,y_pred))\n"
   ]
  },
  {
   "cell_type": "code",
   "execution_count": 9,
   "metadata": {},
   "outputs": [],
   "source": [
    "##PREGUNTAR: ES EL EJE X LO PREDECIDO, O SEA LO SEGUNDO QUE LE PASO A LA MATRIZ O ES AL REVES????\n",
    "laMatriz = confusion_matrix(y_test,y_pred)"
   ]
  },
  {
   "cell_type": "code",
   "execution_count": null,
   "metadata": {},
   "outputs": [],
   "source": []
  },
  {
   "cell_type": "code",
   "execution_count": 11,
   "metadata": {
    "scrolled": true
   },
   "outputs": [
    {
     "data": {
      "text/plain": [
       "<matplotlib.axes._subplots.AxesSubplot at 0x2b108c682b0>"
      ]
     },
     "execution_count": 11,
     "metadata": {},
     "output_type": "execute_result"
    },
    {
     "data": {
      "image/png": "[encoded data removed]",
      "text/plain": [
       "<matplotlib.figure.Figure at 0x2b108a5ec18>"
      ]
     },
     "metadata": {},
     "output_type": "display_data"
    }
   ],
   "source": [
    "##GRAFICO LA MATRIZ DE CONFUSION CON MAS CALIDAD\n",
    "##IMPORTO LAS LIBRERIAS QUE VOY A USAR:\n",
    "import seaborn as sn\n",
    "import pandas as pd\n",
    "import matplotlib.pyplot as plt\n",
    "\n",
    "##ARMO EL OBJETO, PRIMERO LE PASO EL ARRAY, SEGUNDO LOS PASO EL INDEX DE FILAS Y TERCERO LAS COLUMNAS\n",
    "df_cm = pd.DataFrame(laMatriz, index = [\"Correcto 0\", \"Correcto 1\"],\n",
    "                  columns = [\"Predijo 0\", \"Predijo 1\"])\n",
    "plt.figure(figsize = (10,7))\n",
    "sn.heatmap(df_cm, annot=True)\n",
    "## ESTO RECORRE EL STRING Y PONE DE A UN CHARCTER X FILA O COL: index = [i for i in \"ABCD\"]\n",
    "##PUEDO PASARLE UNA LISTA PARECE, ASÍ: index = [\"OPCION A\",\"OPCION B\"]"
   ]
  },
  {
   "cell_type": "code",
   "execution_count": 12,
   "metadata": {},
   "outputs": [
    {
     "data": {
      "text/plain": [
       "0.25"
      ]
     },
     "execution_count": 12,
     "metadata": {},
     "output_type": "execute_result"
    }
   ],
   "source": [
    "##ERROR CUADRÁTICO???? CÓMO SE INTEPRETA?\n",
    "from sklearn.metrics import mean_squared_error\n",
    "mean_squared_error(y_test,y_pred)"
   ]
  },
  {
   "cell_type": "code",
   "execution_count": 13,
   "metadata": {},
   "outputs": [
    {
     "data": {
      "text/plain": [
       "-0.08361204013377921"
      ]
     },
     "execution_count": 13,
     "metadata": {},
     "output_type": "execute_result"
    }
   ],
   "source": [
    "##Y ESTO????? R CUADRADO?????\n",
    "from sklearn.metrics import r2_score\n",
    "r2_score(y_test,y_pred)"
   ]
  },
  {
   "cell_type": "code",
   "execution_count": null,
   "metadata": {},
   "outputs": [],
   "source": []
  },
  {
   "cell_type": "code",
   "execution_count": null,
   "metadata": {},
   "outputs": [],
   "source": []
  },
  {
   "cell_type": "code",
   "execution_count": null,
   "metadata": {},
   "outputs": [],
   "source": []
  }
 ],
 "metadata": {
  "kernelspec": {
   "display_name": "Python 3",
   "language": "python",
   "name": "python3"
  },
  "language_info": {
   "codemirror_mode": {
    "name": "ipython",
    "version": 3
   },
   "file_extension": ".py",
   "mimetype": "text/x-python",
   "name": "python",
   "nbconvert_exporter": "python",
   "pygments_lexer": "ipython3",
   "version": "3.6.4"
  }
 },
 "nbformat": 4,
 "nbformat_minor": 2
}
